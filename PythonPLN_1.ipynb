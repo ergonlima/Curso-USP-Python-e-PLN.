{
  "nbformat": 4,
  "nbformat_minor": 0,
  "metadata": {
    "colab": {
      "name": "PythonPLN_1.ipynb",
      "provenance": [],
      "authorship_tag": "ABX9TyNbaJoNZpTRlv1d302uY4kb",
      "include_colab_link": true
    },
    "kernelspec": {
      "name": "python3",
      "display_name": "Python 3"
    }
  },
  "cells": [
    {
      "cell_type": "markdown",
      "metadata": {
        "id": "view-in-github",
        "colab_type": "text"
      },
      "source": [
        "<a href=\"https://colab.research.google.com/github/ergonlima/Curso-USP-Python-e-PLN./blob/master/PythonPLN_1.ipynb\" target=\"_parent\"><img src=\"https://colab.research.google.com/assets/colab-badge.svg\" alt=\"Open In Colab\"/></a>"
      ]
    },
    {
      "cell_type": "code",
      "metadata": {
        "id": "cUVaE4yxDqvq",
        "colab_type": "code",
        "colab": {
          "base_uri": "https://localhost:8080/",
          "height": 34
        },
        "outputId": "f077f92f-0c37-48d6-ca4b-a8782d787b15"
      },
      "source": [
        "print(\"Olá Mundo!!\")"
      ],
      "execution_count": 2,
      "outputs": [
        {
          "output_type": "stream",
          "text": [
            "Olá Mundo!!\n"
          ],
          "name": "stdout"
        }
      ]
    },
    {
      "cell_type": "markdown",
      "metadata": {
        "id": "VDtxX42OD9Nj",
        "colab_type": "text"
      },
      "source": [
        "#Teste\n",
        "A seguir está um teste com soma e subtração."
      ]
    },
    {
      "cell_type": "code",
      "metadata": {
        "id": "t5WD8i0pERXs",
        "colab_type": "code",
        "colab": {
          "base_uri": "https://localhost:8080/",
          "height": 34
        },
        "outputId": "85ba6750-a8b6-4e7d-d7bc-8bef8ba5787c"
      },
      "source": [
        "a = 12\n",
        "b = 13\n",
        "c = a+b\n",
        "print (c)"
      ],
      "execution_count": 3,
      "outputs": [
        {
          "output_type": "stream",
          "text": [
            "25\n"
          ],
          "name": "stdout"
        }
      ]
    },
    {
      "cell_type": "code",
      "metadata": {
        "id": "jieOpY1tFhmV",
        "colab_type": "code",
        "colab": {}
      },
      "source": [
        "import nlpnet\n",
        "nlpnet.set_data_dir('/path/to/nlpnet-data/')\n",
        "tagger = nlpnet.POSTagger()\n",
        "tagger.tag('O rato roeu a roupa do rei de Roma.')"
      ],
      "execution_count": null,
      "outputs": []
    },
    {
      "cell_type": "code",
      "metadata": {
        "id": "oA1sQivDFlM9",
        "colab_type": "code",
        "colab": {}
      },
      "source": [
        "pip install nlpnet"
      ],
      "execution_count": null,
      "outputs": []
    }
  ]
}