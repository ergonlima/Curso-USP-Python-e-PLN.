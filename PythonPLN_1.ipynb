{
  "nbformat": 4,
  "nbformat_minor": 0,
  "metadata": {
    "colab": {
      "name": "PythonPLN_1.ipynb",
      "provenance": [],
      "authorship_tag": "ABX9TyNbaJoNZpTRlv1d302uY4kb",
      "include_colab_link": true
    },
    "kernelspec": {
      "name": "python3",
      "display_name": "Python 3"
    }
  },
  "cells": [
    {
      "cell_type": "markdown",
      "metadata": {
        "id": "view-in-github",
        "colab_type": "text"
      },
      "source": [
        "<a href=\"https://colab.research.google.com/github/ergonlima/Curso-USP-Python-e-PLN./blob/master/PythonPLN_1.ipynb\" target=\"_parent\"><img src=\"https://colab.research.google.com/assets/colab-badge.svg\" alt=\"Open In Colab\"/></a>"
      ]
    },
    {
      "cell_type": "code",
      "metadata": {
        "id": "cUVaE4yxDqvq",
        "colab_type": "code",
        "colab": {
          "base_uri": "https://localhost:8080/",
          "height": 34
        },
        "outputId": "f077f92f-0c37-48d6-ca4b-a8782d787b15"
      },
      "source": [
        "print(\"Olá Mundo!!\")"
      ],
      "execution_count": 2,
      "outputs": [
        {
          "output_type": "stream",
          "text": [
            "Olá Mundo!!\n"
          ],
          "name": "stdout"
        }
      ]
    },
    {
      "cell_type": "markdown",
      "metadata": {
        "id": "VDtxX42OD9Nj",
        "colab_type": "text"
      },
      "source": [
        "#Teste\n",
        "A seguir está um teste com soma e subtração."
      ]
    },
    {
      "cell_type": "code",
      "metadata": {
        "id": "t5WD8i0pERXs",
        "colab_type": "code",
        "colab": {
          "base_uri": "https://localhost:8080/",
          "height": 34
        },
        "outputId": "85ba6750-a8b6-4e7d-d7bc-8bef8ba5787c"
      },
      "source": [
        "a = 12\n",
        "b = 13\n",
        "c = a+b\n",
        "print (c)"
      ],
      "execution_count": 3,
      "outputs": [
        {
          "output_type": "stream",
          "text": [
            "25\n"
          ],
          "name": "stdout"
        }
      ]
    },
    {
      "cell_type": "code",
      "metadata": {
        "id": "jieOpY1tFhmV",
        "colab_type": "code",
        "colab": {}
      },
      "source": [
        "import nlpnet\n",
        "nlpnet.set_data_dir('/path/to/nlpnet-data/')\n",
        "tagger = nlpnet.POSTagger()\n",
        "tagger.tag('O rato roeu a roupa do rei de Roma.')"
      ],
      "execution_count": null,
      "outputs": []
    },
    {
      "cell_type": "code",
      "metadata": {
        "id": "oA1sQivDFlM9",
        "colab_type": "code",
        "colab": {
          "base_uri": "https://localhost:8080/",
          "height": 275
        },
        "outputId": "e34b92a0-2fc8-445d-cb6f-d29dab83fa57"
      },
      "source": [
        "pip install nlpnet"
      ],
      "execution_count": 7,
      "outputs": [
        {
          "output_type": "stream",
          "text": [
            "Collecting nlpnet\n",
            "\u001b[?25l  Downloading https://files.pythonhosted.org/packages/cc/3f/a5bf348da1a3148acb810d5236bd1c832383fd1a98cb9c4ac3f3bf92ab72/nlpnet-1.2.4.tar.gz (393kB)\n",
            "\u001b[K     |████████████████████████████████| 399kB 2.7MB/s \n",
            "\u001b[?25hRequirement already satisfied: numpy>=1.9.0 in /usr/local/lib/python3.6/dist-packages (from nlpnet) (1.18.5)\n",
            "Requirement already satisfied: nltk>=3.2.2 in /usr/local/lib/python3.6/dist-packages (from nlpnet) (3.2.5)\n",
            "Requirement already satisfied: six>=1.10 in /usr/local/lib/python3.6/dist-packages (from nlpnet) (1.15.0)\n",
            "Requirement already satisfied: h5py>=2.8.0rc1 in /usr/local/lib/python3.6/dist-packages (from nlpnet) (2.10.0)\n",
            "Building wheels for collected packages: nlpnet\n",
            "  Building wheel for nlpnet (setup.py) ... \u001b[?25l\u001b[?25hdone\n",
            "  Created wheel for nlpnet: filename=nlpnet-1.2.4-cp36-cp36m-linux_x86_64.whl size=1543879 sha256=4cfef82a3214c6333c7c28961be9647b238c333b2453b2eeb010b77767aa5247\n",
            "  Stored in directory: /root/.cache/pip/wheels/c0/e0/52/d5159182627fa071d9d9ec802808491e3bc851821769d7160e\n",
            "Successfully built nlpnet\n",
            "Installing collected packages: nlpnet\n",
            "Successfully installed nlpnet-1.2.4\n"
          ],
          "name": "stdout"
        }
      ]
    }
  ]
}